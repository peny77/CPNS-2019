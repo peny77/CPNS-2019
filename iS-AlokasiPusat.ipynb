{
 "cells": [
  {
   "cell_type": "markdown",
   "metadata": {},
   "source": [
    "### INSTANSI PEMERINTAHAN PUSAT CPNS 2019"
   ]
  },
  {
   "cell_type": "markdown",
   "metadata": {},
   "source": [
    "> Url `dataset` _Alokasi Pusat_"
   ]
  },
  {
   "cell_type": "code",
   "execution_count": 97,
   "metadata": {},
   "outputs": [
    {
     "data": {
      "text/html": [
       "<div>\n",
       "<style scoped>\n",
       "    .dataframe tbody tr th:only-of-type {\n",
       "        vertical-align: middle;\n",
       "    }\n",
       "\n",
       "    .dataframe tbody tr th {\n",
       "        vertical-align: top;\n",
       "    }\n",
       "\n",
       "    .dataframe thead th {\n",
       "        text-align: right;\n",
       "    }\n",
       "</style>\n",
       "<table border=\"1\" class=\"dataframe\">\n",
       "  <thead>\n",
       "    <tr style=\"text-align: right;\">\n",
       "      <th></th>\n",
       "      <th>KODE</th>\n",
       "      <th>INSTANSI</th>\n",
       "      <th>JUMLAH FORMASI</th>\n",
       "    </tr>\n",
       "  </thead>\n",
       "  <tbody>\n",
       "    <tr>\n",
       "      <th>0</th>\n",
       "      <td>1010</td>\n",
       "      <td>Kementerian Koordinator Bidang Politik, Hukum ...</td>\n",
       "      <td>60.0</td>\n",
       "    </tr>\n",
       "    <tr>\n",
       "      <th>1</th>\n",
       "      <td>1020</td>\n",
       "      <td>Kementerian Koordinator Bidang Perekenomian</td>\n",
       "      <td>67.0</td>\n",
       "    </tr>\n",
       "    <tr>\n",
       "      <th>2</th>\n",
       "      <td>1050</td>\n",
       "      <td>Kementerian Koordinator Bidang Pembangunan Man...</td>\n",
       "      <td>77.0</td>\n",
       "    </tr>\n",
       "    <tr>\n",
       "      <th>3</th>\n",
       "      <td>1040</td>\n",
       "      <td>Kementerian Koordinator Bidang Kemaritiman</td>\n",
       "      <td>72.0</td>\n",
       "    </tr>\n",
       "    <tr>\n",
       "      <th>4</th>\n",
       "      <td>2010</td>\n",
       "      <td>Kementerian Koperasi dan Usaha Kecil dan Menengah</td>\n",
       "      <td>98.0</td>\n",
       "    </tr>\n",
       "  </tbody>\n",
       "</table>\n",
       "</div>"
      ],
      "text/plain": [
       "   KODE                                           INSTANSI  JUMLAH FORMASI\n",
       "0  1010  Kementerian Koordinator Bidang Politik, Hukum ...            60.0\n",
       "1  1020        Kementerian Koordinator Bidang Perekenomian            67.0\n",
       "2  1050  Kementerian Koordinator Bidang Pembangunan Man...            77.0\n",
       "3  1040         Kementerian Koordinator Bidang Kemaritiman            72.0\n",
       "4  2010  Kementerian Koperasi dan Usaha Kecil dan Menengah            98.0"
      ]
     },
     "execution_count": 97,
     "metadata": {},
     "output_type": "execute_result"
    }
   ],
   "source": [
    "import pandas as pd\n",
    "\n",
    "df = pd.read_excel('tes/alokasi pusat.xlsx', downcast='signed')\n",
    "df.head()"
   ]
  },
  {
   "cell_type": "code",
   "execution_count": 7,
   "metadata": {},
   "outputs": [
    {
     "data": {
      "text/plain": [
       "Index(['KODE', 'INSTANSI', 'JUMLAH FORMASI'], dtype='object')"
      ]
     },
     "execution_count": 7,
     "metadata": {},
     "output_type": "execute_result"
    }
   ],
   "source": [
    "df.columns"
   ]
  },
  {
   "cell_type": "markdown",
   "metadata": {},
   "source": [
    "#### Deskripsi Data"
   ]
  },
  {
   "cell_type": "code",
   "execution_count": 9,
   "metadata": {},
   "outputs": [
    {
     "name": "stdout",
     "output_type": "stream",
     "text": [
      "              KODE  JUMLAH FORMASI\n",
      "count    67.000000       66.000000\n",
      "mean   3339.522388      566.181818\n",
      "std     888.961010     1130.338709\n",
      "min    1010.000000       11.000000\n",
      "25%    3007.000000       80.250000\n",
      "50%    4003.000000      175.500000\n",
      "75%    4024.500000      411.750000\n",
      "max    4066.000000     5815.000000\n"
     ]
    }
   ],
   "source": [
    "print(df.describe())"
   ]
  },
  {
   "cell_type": "markdown",
   "metadata": {},
   "source": [
    "> Mengecek apakah ada data yang Null, NaN atau Empty"
   ]
  },
  {
   "cell_type": "code",
   "execution_count": 30,
   "metadata": {},
   "outputs": [
    {
     "data": {
      "text/html": [
       "<div>\n",
       "<style scoped>\n",
       "    .dataframe tbody tr th:only-of-type {\n",
       "        vertical-align: middle;\n",
       "    }\n",
       "\n",
       "    .dataframe tbody tr th {\n",
       "        vertical-align: top;\n",
       "    }\n",
       "\n",
       "    .dataframe thead th {\n",
       "        text-align: right;\n",
       "    }\n",
       "</style>\n",
       "<table border=\"1\" class=\"dataframe\">\n",
       "  <thead>\n",
       "    <tr style=\"text-align: right;\">\n",
       "      <th></th>\n",
       "      <th>KODE</th>\n",
       "      <th>INSTANSI</th>\n",
       "      <th>JUMLAH FORMASI</th>\n",
       "    </tr>\n",
       "  </thead>\n",
       "  <tbody>\n",
       "    <tr>\n",
       "      <th>50</th>\n",
       "      <td>4025</td>\n",
       "      <td>Perpustakaan Nasional</td>\n",
       "      <td>NaN</td>\n",
       "    </tr>\n",
       "  </tbody>\n",
       "</table>\n",
       "</div>"
      ],
      "text/plain": [
       "    KODE               INSTANSI  JUMLAH FORMASI\n",
       "50  4025  Perpustakaan Nasional             NaN"
      ]
     },
     "execution_count": 30,
     "metadata": {},
     "output_type": "execute_result"
    }
   ],
   "source": [
    "df[df['JUMLAH FORMASI'].isnull()]"
   ]
  },
  {
   "cell_type": "markdown",
   "metadata": {},
   "source": [
    "> Dari informasi diatas bahwa Instansi Perpustakaan Nasional tidak mengusulkan pengadaan jumlah formasi untuk CPNS tahun 2019, menghilangkan data Null, NaN atau Empty dan menjumlahkan kembali sehingga tidak ada data yang kosong"
   ]
  },
  {
   "cell_type": "code",
   "execution_count": 33,
   "metadata": {},
   "outputs": [],
   "source": [
    "df_fix = df.dropna(axis=0, how='any')"
   ]
  },
  {
   "cell_type": "markdown",
   "metadata": {},
   "source": [
    "> Cek kembali data yang sudah dihilangkan"
   ]
  },
  {
   "cell_type": "code",
   "execution_count": 34,
   "metadata": {},
   "outputs": [
    {
     "data": {
      "text/html": [
       "<div>\n",
       "<style scoped>\n",
       "    .dataframe tbody tr th:only-of-type {\n",
       "        vertical-align: middle;\n",
       "    }\n",
       "\n",
       "    .dataframe tbody tr th {\n",
       "        vertical-align: top;\n",
       "    }\n",
       "\n",
       "    .dataframe thead th {\n",
       "        text-align: right;\n",
       "    }\n",
       "</style>\n",
       "<table border=\"1\" class=\"dataframe\">\n",
       "  <thead>\n",
       "    <tr style=\"text-align: right;\">\n",
       "      <th></th>\n",
       "      <th>KODE</th>\n",
       "      <th>INSTANSI</th>\n",
       "      <th>JUMLAH FORMASI</th>\n",
       "    </tr>\n",
       "  </thead>\n",
       "  <tbody>\n",
       "  </tbody>\n",
       "</table>\n",
       "</div>"
      ],
      "text/plain": [
       "Empty DataFrame\n",
       "Columns: [KODE, INSTANSI, JUMLAH FORMASI]\n",
       "Index: []"
      ]
     },
     "execution_count": 34,
     "metadata": {},
     "output_type": "execute_result"
    }
   ],
   "source": [
    "df_fix[df_fix['JUMLAH FORMASI'].isnull()]"
   ]
  },
  {
   "cell_type": "markdown",
   "metadata": {},
   "source": [
    "#### Ekplorasi Data dan Analisis"
   ]
  },
  {
   "cell_type": "code",
   "execution_count": 91,
   "metadata": {},
   "outputs": [
    {
     "data": {
      "image/png": "[encoded data removed]",
      "text/plain": [
       "<Figure size 432x288 with 1 Axes>"
      ]
     },
     "metadata": {
      "needs_background": "light"
     },
     "output_type": "display_data"
    }
   ],
   "source": [
    "import matplotlib.pyplot as plt\n",
    "\n",
    "df_fix.plot()\n",
    "plt.xlabel('JUMLAH FORMASI');"
   ]
  },
  {
   "cell_type": "markdown",
   "metadata": {},
   "source": [
    "#### TOP 10 FORMASI INSTANSI PEMERINTAHAN PUSAT"
   ]
  },
  {
   "cell_type": "markdown",
   "metadata": {},
   "source": [
    "> 10 Sepuluh alokasi formasi `CPNS 2019` tertinggi Instansi Pemerintahan Pusat"
   ]
  },
  {
   "cell_type": "code",
   "execution_count": 135,
   "metadata": {},
   "outputs": [
    {
     "data": {
      "text/html": [
       "<div>\n",
       "<style scoped>\n",
       "    .dataframe tbody tr th:only-of-type {\n",
       "        vertical-align: middle;\n",
       "    }\n",
       "\n",
       "    .dataframe tbody tr th {\n",
       "        vertical-align: top;\n",
       "    }\n",
       "\n",
       "    .dataframe thead th {\n",
       "        text-align: right;\n",
       "    }\n",
       "</style>\n",
       "<table border=\"1\" class=\"dataframe\">\n",
       "  <thead>\n",
       "    <tr style=\"text-align: right;\">\n",
       "      <th></th>\n",
       "      <th>KODE</th>\n",
       "      <th>INSTANSI</th>\n",
       "      <th>JUMLAH FORMASI</th>\n",
       "    </tr>\n",
       "  </thead>\n",
       "  <tbody>\n",
       "    <tr>\n",
       "      <th>20</th>\n",
       "      <td>3012</td>\n",
       "      <td>Kementerian Agama</td>\n",
       "      <td>5815.0</td>\n",
       "    </tr>\n",
       "    <tr>\n",
       "      <th>32</th>\n",
       "      <td>4002</td>\n",
       "      <td>Kejaksaan Agung RI</td>\n",
       "      <td>5203.0</td>\n",
       "    </tr>\n",
       "    <tr>\n",
       "      <th>13</th>\n",
       "      <td>3004</td>\n",
       "      <td>Kementerian Hukum Dan Ham</td>\n",
       "      <td>4598.0</td>\n",
       "    </tr>\n",
       "    <tr>\n",
       "      <th>19</th>\n",
       "      <td>3011</td>\n",
       "      <td>Kementerian Kesehatan</td>\n",
       "      <td>2205.0</td>\n",
       "    </tr>\n",
       "    <tr>\n",
       "      <th>18</th>\n",
       "      <td>3010</td>\n",
       "      <td>Kementerian Pendidikan dan Kebudayaan (plus fo...</td>\n",
       "      <td>2196.0</td>\n",
       "    </tr>\n",
       "    <tr>\n",
       "      <th>36</th>\n",
       "      <td>4007</td>\n",
       "      <td>Sekretariat Mahkamah Agung</td>\n",
       "      <td>2104.0</td>\n",
       "    </tr>\n",
       "    <tr>\n",
       "      <th>17</th>\n",
       "      <td>3009</td>\n",
       "      <td>Kementerian Perhubungan</td>\n",
       "      <td>1244.0</td>\n",
       "    </tr>\n",
       "    <tr>\n",
       "      <th>28</th>\n",
       "      <td>3021</td>\n",
       "      <td>Kementerian Pekerjaan Umum dan Perumahan Rakyat</td>\n",
       "      <td>1180.0</td>\n",
       "    </tr>\n",
       "    <tr>\n",
       "      <th>49</th>\n",
       "      <td>4024</td>\n",
       "      <td>Kementerian Agraria dan Tata Ruang</td>\n",
       "      <td>727.0</td>\n",
       "    </tr>\n",
       "    <tr>\n",
       "      <th>33</th>\n",
       "      <td>4003</td>\n",
       "      <td>Badan Inteljen Negara</td>\n",
       "      <td>721.0</td>\n",
       "    </tr>\n",
       "  </tbody>\n",
       "</table>\n",
       "</div>"
      ],
      "text/plain": [
       "    KODE                                           INSTANSI  JUMLAH FORMASI\n",
       "20  3012                                  Kementerian Agama          5815.0\n",
       "32  4002                                 Kejaksaan Agung RI          5203.0\n",
       "13  3004                          Kementerian Hukum Dan Ham          4598.0\n",
       "19  3011                              Kementerian Kesehatan          2205.0\n",
       "18  3010  Kementerian Pendidikan dan Kebudayaan (plus fo...          2196.0\n",
       "36  4007                         Sekretariat Mahkamah Agung          2104.0\n",
       "17  3009                            Kementerian Perhubungan          1244.0\n",
       "28  3021    Kementerian Pekerjaan Umum dan Perumahan Rakyat          1180.0\n",
       "49  4024                 Kementerian Agraria dan Tata Ruang           727.0\n",
       "33  4003                              Badan Inteljen Negara           721.0"
      ]
     },
     "execution_count": 135,
     "metadata": {},
     "output_type": "execute_result"
    }
   ],
   "source": [
    "sort = df_fix.sort_values(by=['JUMLAH FORMASI'], ascending=False)\n",
    "sort.head(10)"
   ]
  }
 ],
 "metadata": {
  "kernelspec": {
   "display_name": "Python 3",
   "language": "python",
   "name": "python3"
  },
  "language_info": {
   "codemirror_mode": {
    "name": "ipython",
    "version": 3
   },
   "file_extension": ".py",
   "mimetype": "text/x-python",
   "name": "python",
   "nbconvert_exporter": "python",
   "pygments_lexer": "ipython3",
   "version": "3.7.3"
  }
 },
 "nbformat": 4,
 "nbformat_minor": 2
}
